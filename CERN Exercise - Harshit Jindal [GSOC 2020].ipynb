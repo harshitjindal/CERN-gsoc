{
 "cells": [
  {
   "cell_type": "markdown",
   "metadata": {},
   "source": [
    "# Machine Learning Part\n",
    "---\n",
    "> You will explore how best to apply machine learning algorithms, for example, Neural Network, Boosted Decision Tree (BDT), Support Vector Machine(SVM) to solve a High Energy Data analysis issue, more specifically,  separating the signal events from the background events.\n",
    "> A set of input samples (simulated with Delphes) is provided in NumPy NPZ format [Download Input]. In the input file, there are only 100 samples for training and 100 samples for testing so it won’t take much computing resources to accomplish this task. The signal events are labeled with 1 while the background sample are labeled with 0.\n",
    "> You can apply one machine learning algorithm to this input but be sure to show that you understand how to fine tune your machine learning model to improve the performance. The performance can be evaluated with classification accuracy or Area Under ROC Curve (AUC)."
   ]
  },
  {
   "cell_type": "code",
   "execution_count": 1,
   "metadata": {},
   "outputs": [],
   "source": [
    "# Importing the libraries\n",
    "import numpy as np\n",
    "import matplotlib.pyplot as plt\n",
    "import pandas as pd\n",
    "\n",
    "# Allowing loading of pickled values (disabled by default)\n",
    "np_load_old = np.load\n",
    "np.load = lambda *a,**k: np_load_old(*a, allow_pickle=True)\n",
    "\n",
    "# Loading the data with a context manager\n",
    "with np.load('QIS_EXAM_200Events.npz') as data:\n",
    "    training_input = data['training_input'].tolist()\n",
    "    test_input = data['test_input'].tolist()"
   ]
  },
  {
   "cell_type": "code",
   "execution_count": 2,
   "metadata": {},
   "outputs": [],
   "source": [
    "# Segregation of Background and Signal Events    \n",
    "training_backgroundEvents = training_input['0']\n",
    "training_signalEvents = training_input['1']\n",
    "\n",
    "test_backgroundEvents = test_input['0']\n",
    "test_signalEvents = test_input['1']\n",
    "\n",
    "# Creating Training Dataset with 50 Background Events and 50 Signal Events\n",
    "X_train = np.append(training_backgroundEvents,training_signalEvents, axis = 0)\n",
    "y_train = 50 * [int(0)] + 50 * [int(1)]\n",
    "\n",
    "# Creating Test Dataset with 50 Background Events and 50 Signal Events\n",
    "X_test = np.append(test_backgroundEvents,test_signalEvents, axis = 0)\n",
    "y_test = 50 * [int(0)] + 50 * [int(1)]\n",
    "\n",
    "\n",
    "# Feature Scaling\n",
    "from sklearn.preprocessing import StandardScaler\n",
    "sc = StandardScaler()\n",
    "X_train = sc.fit_transform(X_train)\n",
    "X_test = sc.transform(X_test)"
   ]
  },
  {
   "cell_type": "code",
   "execution_count": 3,
   "metadata": {},
   "outputs": [
    {
     "name": "stdout",
     "output_type": "stream",
     "text": [
      "Confusion Matrix:\n",
      " [[39 11]\n",
      " [21 29]]\n",
      "\n",
      "Classifier Accuracy (Background Events): 78 %\n",
      "Classifier Accuracy (Signal Events): 58 %\n",
      "False Positives: 22 %\n",
      "False Negatives: 42 %\n",
      "\n",
      "Note: Here, positive refers to signal events and negative refers to background events.\n"
     ]
    }
   ],
   "source": [
    "# Fitting Logistic Regression to the Training set\n",
    "from sklearn.linear_model import LogisticRegression\n",
    "classifier = LogisticRegression(random_state = 0)\n",
    "\n",
    "classifier.fit(X_train, y_train)\n",
    "\n",
    "# Predicting the Test set results\n",
    "y_pred = classifier.predict(X_test)\n",
    "\n",
    "# Making the Confusion Matrix\n",
    "from sklearn.metrics import confusion_matrix\n",
    "cm = confusion_matrix(y_test, y_pred)\n",
    "\n",
    "print('Confusion Matrix:\\n', cm, end='\\n\\n')\n",
    "print('Classifier Accuracy (Background Events):', 2*cm[0][0], '%')\n",
    "print('Classifier Accuracy (Signal Events):', 2*cm[1][1], '%')\n",
    "print('False Positives:', 2*cm[0][1], '%')\n",
    "print('False Negatives:', 2*cm[1][0], '%\\n')\n",
    "print('Note: Here, positive refers to signal events and negative refers to background events.')"
   ]
  },
  {
   "cell_type": "code",
   "execution_count": 4,
   "metadata": {},
   "outputs": [
    {
     "name": "stdout",
     "output_type": "stream",
     "text": [
      "Confusion Matrix:\n",
      " [[38 12]\n",
      " [20 30]]\n",
      "\n",
      "Classifier Accuracy (Background Events): 76 %\n",
      "Classifier Accuracy (Signal Events): 60 %\n",
      "False Positives: 24 %\n",
      "False Negatives: 40 %\n",
      "\n",
      "Note: Here, positive refers to signal events and negative refers to background events.\n"
     ]
    }
   ],
   "source": [
    "# Fitting K-Nearest Neighbors to the Training set\n",
    "from sklearn.neighbors import KNeighborsClassifier\n",
    "classifier = KNeighborsClassifier(n_neighbors = 5, metric = 'minkowski', p = 3)\n",
    "\n",
    "\n",
    "classifier.fit(X_train, y_train)\n",
    "\n",
    "# Predicting the Test set results\n",
    "y_pred = classifier.predict(X_test)\n",
    "\n",
    "# Making the Confusion Matrix\n",
    "from sklearn.metrics import confusion_matrix\n",
    "cm = confusion_matrix(y_test, y_pred)\n",
    "\n",
    "print('Confusion Matrix:\\n', cm, end='\\n\\n')\n",
    "print('Classifier Accuracy (Background Events):', 2*cm[0][0], '%')\n",
    "print('Classifier Accuracy (Signal Events):', 2*cm[1][1], '%')\n",
    "print('False Positives:', 2*cm[0][1], '%')\n",
    "print('False Negatives:', 2*cm[1][0], '%\\n')\n",
    "print('Note: Here, positive refers to signal events and negative refers to background events.')"
   ]
  },
  {
   "cell_type": "code",
   "execution_count": 5,
   "metadata": {},
   "outputs": [
    {
     "name": "stdout",
     "output_type": "stream",
     "text": [
      "Confusion Matrix:\n",
      " [[38 12]\n",
      " [17 33]]\n",
      "\n",
      "Classifier Accuracy (Background Events): 76 %\n",
      "Classifier Accuracy (Signal Events): 66 %\n",
      "False Positives: 24 %\n",
      "False Negatives: 34 %\n",
      "\n",
      "Note: Here, positive refers to signal events and negative refers to background events.\n"
     ]
    }
   ],
   "source": [
    "# Fitting SVM to the Training set\n",
    "from sklearn.svm import SVC\n",
    "classifier = SVC(kernel = 'rbf', random_state = 0)\n",
    "\n",
    "classifier.fit(X_train, y_train)\n",
    "\n",
    "# Predicting the Test set results\n",
    "y_pred = classifier.predict(X_test)\n",
    "\n",
    "# Making the Confusion Matrix\n",
    "from sklearn.metrics import confusion_matrix\n",
    "cm = confusion_matrix(y_test, y_pred)\n",
    "\n",
    "print('Confusion Matrix:\\n', cm, end='\\n\\n')\n",
    "print('Classifier Accuracy (Background Events):', 2*cm[0][0], '%')\n",
    "print('Classifier Accuracy (Signal Events):', 2*cm[1][1], '%')\n",
    "print('False Positives:', 2*cm[0][1], '%')\n",
    "print('False Negatives:', 2*cm[1][0], '%\\n')\n",
    "print('Note: Here, positive refers to signal events and negative refers to background events.')"
   ]
  },
  {
   "cell_type": "code",
   "execution_count": 6,
   "metadata": {},
   "outputs": [
    {
     "name": "stdout",
     "output_type": "stream",
     "text": [
      "Confusion Matrix:\n",
      " [[39 11]\n",
      " [18 32]]\n",
      "\n",
      "Classifier Accuracy (Background Events): 78 %\n",
      "Classifier Accuracy (Signal Events): 64 %\n",
      "False Positives: 22 %\n",
      "False Negatives: 36 %\n",
      "\n",
      "Note: Here, positive refers to signal events and negative refers to background events.\n"
     ]
    }
   ],
   "source": [
    "# Fitting Kernel SVM to the Training set\n",
    "from sklearn.svm import SVC\n",
    "classifier = SVC(kernel = 'linear', random_state = 0)\n",
    "\n",
    "classifier.fit(X_train, y_train)\n",
    "\n",
    "# Predicting the Test set results\n",
    "y_pred = classifier.predict(X_test)\n",
    "\n",
    "# Making the Confusion Matrix\n",
    "from sklearn.metrics import confusion_matrix\n",
    "cm = confusion_matrix(y_test, y_pred)\n",
    "\n",
    "print('Confusion Matrix:\\n', cm, end='\\n\\n')\n",
    "print('Classifier Accuracy (Background Events):', 2*cm[0][0], '%')\n",
    "print('Classifier Accuracy (Signal Events):', 2*cm[1][1], '%')\n",
    "print('False Positives:', 2*cm[0][1], '%')\n",
    "print('False Negatives:', 2*cm[1][0], '%\\n')\n",
    "print('Note: Here, positive refers to signal events and negative refers to background events.')"
   ]
  },
  {
   "cell_type": "code",
   "execution_count": 7,
   "metadata": {},
   "outputs": [
    {
     "name": "stdout",
     "output_type": "stream",
     "text": [
      "Confusion Matrix:\n",
      " [[43  7]\n",
      " [23 27]]\n",
      "\n",
      "Classifier Accuracy (Background Events): 86 %\n",
      "Classifier Accuracy (Signal Events): 54 %\n",
      "False Positives: 14 %\n",
      "False Negatives: 46 %\n",
      "\n",
      "Note: Here, positive refers to signal events and negative refers to background events.\n"
     ]
    }
   ],
   "source": [
    "# Fitting Gaussian Naive Bayes to the Training set\n",
    "from sklearn.naive_bayes import GaussianNB\n",
    "classifier = GaussianNB()\n",
    "\n",
    "classifier.fit(X_train, y_train)\n",
    "\n",
    "# Predicting the Test set results\n",
    "y_pred = classifier.predict(X_test)\n",
    "\n",
    "# Making the Confusion Matrix\n",
    "from sklearn.metrics import confusion_matrix\n",
    "cm = confusion_matrix(y_test, y_pred)\n",
    "\n",
    "print('Confusion Matrix:\\n', cm, end='\\n\\n')\n",
    "print('Classifier Accuracy (Background Events):', 2*cm[0][0], '%')\n",
    "print('Classifier Accuracy (Signal Events):', 2*cm[1][1], '%')\n",
    "print('False Positives:', 2*cm[0][1], '%')\n",
    "print('False Negatives:', 2*cm[1][0], '%\\n')\n",
    "print('Note: Here, positive refers to signal events and negative refers to background events.')"
   ]
  },
  {
   "cell_type": "code",
   "execution_count": 8,
   "metadata": {},
   "outputs": [
    {
     "name": "stdout",
     "output_type": "stream",
     "text": [
      "Confusion Matrix:\n",
      " [[32 18]\n",
      " [23 27]]\n",
      "\n",
      "Classifier Accuracy (Background Events): 64 %\n",
      "Classifier Accuracy (Signal Events): 54 %\n",
      "False Positives: 36 %\n",
      "False Negatives: 46 %\n",
      "\n",
      "Note: Here, positive refers to signal events and negative refers to background events.\n"
     ]
    }
   ],
   "source": [
    "# Fitting Decision Tree Classifier to the Training set\n",
    "from sklearn.tree import DecisionTreeClassifier\n",
    "classifier = DecisionTreeClassifier(criterion = 'entropy', random_state = 0)\n",
    "\n",
    "classifier.fit(X_train, y_train)\n",
    "\n",
    "# Predicting the Test set results\n",
    "y_pred = classifier.predict(X_test)\n",
    "\n",
    "# Making the Confusion Matrix\n",
    "from sklearn.metrics import confusion_matrix\n",
    "cm = confusion_matrix(y_test, y_pred)\n",
    "\n",
    "print('Confusion Matrix:\\n', cm, end='\\n\\n')\n",
    "print('Classifier Accuracy (Background Events):', 2*cm[0][0], '%')\n",
    "print('Classifier Accuracy (Signal Events):', 2*cm[1][1], '%')\n",
    "print('False Positives:', 2*cm[0][1], '%')\n",
    "print('False Negatives:', 2*cm[1][0], '%\\n')\n",
    "print('Note: Here, positive refers to signal events and negative refers to background events.')"
   ]
  },
  {
   "cell_type": "code",
   "execution_count": 19,
   "metadata": {},
   "outputs": [
    {
     "name": "stdout",
     "output_type": "stream",
     "text": [
      "Confusion Matrix:\n",
      " [[29 21]\n",
      " [14 36]]\n",
      "\n",
      "Classifier Accuracy (Background Events): 58 %\n",
      "Classifier Accuracy (Signal Events): 72 %\n",
      "False Positives: 42 %\n",
      "False Negatives: 28 %\n",
      "\n",
      "Note: Here, positive refers to signal events and negative refers to background events.\n"
     ]
    }
   ],
   "source": [
    "# Fitting Multi-Layer Perceptron Network to the Training set\n",
    "from sklearn.neural_network import MLPClassifier\n",
    "classifier = MLPClassifier(solver='lbfgs', alpha=1e-3, hidden_layer_sizes=(8, 4, 2), \n",
    "                           random_state=1, max_iter=1000)\n",
    "\n",
    "classifier.fit(X_train, y_train)\n",
    "\n",
    "# Predicting the Test set results\n",
    "y_pred = classifier.predict(X_test)\n",
    "\n",
    "# Making the Confusion Matrix\n",
    "from sklearn.metrics import confusion_matrix\n",
    "cm = confusion_matrix(y_test, y_pred)\n",
    "\n",
    "print('Confusion Matrix:\\n', cm, end='\\n\\n')\n",
    "print('Classifier Accuracy (Background Events):', 2*cm[0][0], '%')\n",
    "print('Classifier Accuracy (Signal Events):', 2*cm[1][1], '%')\n",
    "print('False Positives:', 2*cm[0][1], '%')\n",
    "print('False Negatives:', 2*cm[1][0], '%\\n')\n",
    "print('Note: Here, positive refers to signal events and negative refers to background events.')"
   ]
  },
  {
   "cell_type": "markdown",
   "metadata": {},
   "source": [
    "---\n",
    "> * Naive Bayes gives the best classification accuracy for Background Events while giving least false positives.  \n",
    "> * Multi-Layer Perceptron Network gives the best classification accuracy for Signal Events. We use an alpha value of 1e-3 to maintain a balance between overfitting and underfitting.\n",
    "\n",
    "> By increasing the size of the dataset (only 100 samples for training taken currently), we can greatly improve the model performance. Also, the test set and training set that were provided were equal in proportion, ie: 100 samples each, whereas it could have been more in the training set and little less in the test set, eg: 80% and 20% respectively.  \n",
    "\n",
    "> All the features have been sampled and transformed so as to improve training potential."
   ]
  },
  {
   "cell_type": "markdown",
   "metadata": {},
   "source": [
    "# Quantum Computing Part\n",
    "---\n",
    "## Quantum Computing - Question 1\n",
    "> Implement a simple quantum operation with Cirq\n",
    "* With 5 qubits\n",
    "* Apply Hadamard operation on every qubit\n",
    "* Apply CNOT operation on (0, 1), (1,2), (2,3), (3,4)\n",
    "* SWAP (0, 4)\n",
    "* Rotate X with pi/2\n",
    "* Plot the circuit\n"
   ]
  },
  {
   "cell_type": "code",
   "execution_count": 17,
   "metadata": {},
   "outputs": [
    {
     "name": "stdout",
     "output_type": "stream",
     "text": [
      "Before Rotation:\n",
      "\n",
      "0: ───H───@───────────────×───\n",
      "          │               │\n",
      "1: ───H───X───@───────────┼───\n",
      "              │           │\n",
      "2: ───H───────X───@───────┼───\n",
      "                  │       │\n",
      "3: ───H───────────X───@───┼───\n",
      "                      │   │\n",
      "4: ───H───────────────X───×───\n",
      "\n",
      "\n",
      "--------------------------------------------------\n",
      " Adding Rotation Rx(pi/2) and measuring:\n",
      "--------------------------------------------------\n",
      "\n",
      "\n",
      "                                        ┌─────────┐\n",
      "0: ───H───@──────────────────────────────×────────────Rx(0.5π)───M('q0')───\n",
      "          │                              │\n",
      "1: ───H───X───@───Rx(0.5π)───M('q1')─────┼─────────────────────────────────\n",
      "              │                          │\n",
      "2: ───H───────X───@──────────Rx(0.5π)────┼M('q2')──────────────────────────\n",
      "                  │                      │\n",
      "3: ───H───────────X──────────@───────────┼Rx(0.5π)────M('q3')──────────────\n",
      "                             │           │\n",
      "4: ───H──────────────────────X───────────×────────────Rx(0.5π)───M('q4')───\n",
      "                                        └─────────┘\n"
     ]
    }
   ],
   "source": [
    "import cirq\n",
    "circuit = cirq.Circuit()\n",
    "\n",
    "(q0, q1, q2, q3, q4) = cirq.LineQubit.range(5)\n",
    "\n",
    "circuit.append([cirq.H(q0), \n",
    "                cirq.H(q1), \n",
    "                cirq.H(q2), \n",
    "                cirq.H(q3), \n",
    "                cirq.H(q4)])\n",
    "\n",
    "circuit.append([cirq.CNOT(q0, q1), \n",
    "                cirq.CNOT(q1, q2), \n",
    "                cirq.CNOT(q2, q3), \n",
    "                cirq.CNOT(q3, q4)])\n",
    "\n",
    "circuit.append(cirq.SWAP(q0, q4))\n",
    "\n",
    "print('Before Rotation:\\n\\n', circuit, \n",
    "      end='\\n\\n\\n'+50*'-'+'\\n Adding Rotation Rx(pi/2) and measuring:\\n'+50*'-'+'\\n\\n\\n',\n",
    "      sep='')\n",
    "\n",
    "gate_rotateX = cirq.rx(np.pi/2)\n",
    "\n",
    "circuit.append([gate_rotateX(q0), \n",
    "                gate_rotateX(q1), \n",
    "                gate_rotateX(q2), \n",
    "                gate_rotateX(q3), \n",
    "                gate_rotateX(q4)])\n",
    "\n",
    "circuit.append([cirq.measure(q0, key='q0'), \n",
    "                cirq.measure(q1, key='q1'), \n",
    "                cirq.measure(q2, key='q2'), \n",
    "                cirq.measure(q3, key='q3'), \n",
    "                cirq.measure(q4, key='q4')])\n",
    "\n",
    "print(circuit)"
   ]
  },
  {
   "cell_type": "markdown",
   "metadata": {},
   "source": [
    "---\n",
    "## Quantum Computing - Question 2\n",
    "\n",
    "> Create a circuit that is a series of small cirq.Rx rotations and plot the probability of measuring the state in the |0⟩ state. For example, for a qubit, at first, you can rotate 0.1 degree, you get one probability of measuring the state in the |0⟩ state; then you rotate another 0.1 degree in addition, you get another probability; then you another 0.1 degree and so on."
   ]
  },
  {
   "cell_type": "code",
   "execution_count": 18,
   "metadata": {},
   "outputs": [
    {
     "data": {
      "text/plain": [
       "[<matplotlib.lines.Line2D at 0x12aa62c10>]"
      ]
     },
     "execution_count": 18,
     "metadata": {},
     "output_type": "execute_result"
    },
    {
     "data": {
      "image/png": "[encoded data removed]",
      "text/plain": [
       "<Figure size 432x288 with 1 Axes>"
      ]
     },
     "metadata": {
      "needs_background": "light"
     },
     "output_type": "display_data"
    }
   ],
   "source": [
    "import cirq\n",
    "import matplotlib.pyplot as plt\n",
    "from pylab import *\n",
    "\n",
    "simulator = cirq.Simulator()\n",
    "qubit = cirq.NamedQubit('qubit')\n",
    "\n",
    "step = 1800\n",
    "repetitions = 1000 # 1000 shots per measurement\n",
    "cycle = 1\n",
    "finalResult = list()\n",
    "\n",
    "for i in range(2*step):\n",
    "    circuit = cirq.Circuit()\n",
    "    identifier = str('%.2f'%(i*np.pi/step)) + \"π\"\n",
    "    \n",
    "    circuit.append(cirq.rx(i*np.pi/step)(qubit))\n",
    "    circuit.append(cirq.measure(qubit, key='x'))\n",
    "    \n",
    "    result = simulator.run(circuit, repetitions=repetitions)\n",
    "    finalResult.append(result)\n",
    "\n",
    "#     print(circuit)\n",
    "#     print(result)\n",
    "\n",
    "plotData = list()\n",
    " \n",
    "for res in finalResult:\n",
    "    resCounter = res.histogram(key='x')\n",
    "    plotData.append(resCounter[0]/repetitions)\n",
    "\n",
    "# print(plotData)\n",
    "xlabel('Rotations (degrees)')\n",
    "ylabel('Probability of qubit in |0> state')\n",
    "plot(np.linspace(0, cycle*2*180, step*cycle*2), plotData)\n"
   ]
  },
  {
   "cell_type": "code",
   "execution_count": null,
   "metadata": {},
   "outputs": [],
   "source": []
  }
 ],
 "metadata": {
  "kernelspec": {
   "display_name": "Python 3",
   "language": "python",
   "name": "python3"
  },
  "language_info": {
   "codemirror_mode": {
    "name": "ipython",
    "version": 3
   },
   "file_extension": ".py",
   "mimetype": "text/x-python",
   "name": "python",
   "nbconvert_exporter": "python",
   "pygments_lexer": "ipython3",
   "version": "3.7.6"
  }
 },
 "nbformat": 4,
 "nbformat_minor": 2
}
